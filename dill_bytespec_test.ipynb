{
 "cells": [
  {
   "cell_type": "code",
   "execution_count": null,
   "metadata": {},
   "outputs": [
    {
     "name": "stdout",
     "output_type": "stream",
     "text": [
      "b'_______\\x80_______\\x04_______\\x95_______\\x04_______\\x00_______\\x00_______\\x00_______\\x00_______\\x00_______\\x00_______\\x00_______\\x8c_______\\x00_______\\x94_______._______'\n",
      "b'\\x80\\x04\\x95\\x05\\x00\\x00\\x00\\x00\\x00\\x00\\x00\\x8c\\x01_______\\x94.'\n",
      "b'\\x80\\x04\\x95\\x06\\x00\\x00\\x00\\x00\\x00\\x00\\x00\\x8c\\x02_______\\x94.'\n",
      "b'\\x80\\x04\\x95\\x07\\x00\\x00\\x00\\x00\\x00\\x00\\x00\\x8c\\x03_______\\x94.'\n",
      "b'\\x80\\x04\\x95\\x08\\x00\\x00\\x00\\x00\\x00\\x00\\x00\\x8c\\x04_______\\x94.'\n",
      "b'\\x80\\x04\\x95\\t\\x00\\x00\\x00\\x00\\x00\\x00\\x00\\x8c\\x05_______\\x94.'\n",
      "b'\\x80\\x04\\x95\\n\\x00\\x00\\x00\\x00\\x00\\x00\\x00\\x8c\\x06_______\\x94.'\n",
      "b'\\x80\\x04\\x95\\x0b\\x00\\x00\\x00\\x00\\x00\\x00\\x00\\x8c\\x07_______\\x94.'\n",
      "b'\\x80\\x04\\x95\\x0c\\x00\\x00\\x00\\x00\\x00\\x00\\x00\\x8c\\x08_______\\x94.'\n",
      "b'\\x80\\x04\\x95\\r\\x00\\x00\\x00\\x00\\x00\\x00\\x00\\x8c\\t_______\\x94.'\n",
      "b'\\x80\\x04\\x95\\x0e\\x00\\x00\\x00\\x00\\x00\\x00\\x00\\x8c\\n_______\\x94.'\n",
      "b'\\x80\\x04\\x95\\x0f\\x00\\x00\\x00\\x00\\x00\\x00\\x00\\x8c\\x0b_______\\x94.'\n",
      "b'\\x80\\x04\\x95\\x10\\x00\\x00\\x00\\x00\\x00\\x00\\x00\\x8c\\x0c_______\\x94.'\n",
      "b'\\x80\\x04\\x95\\x11\\x00\\x00\\x00\\x00\\x00\\x00\\x00\\x8c\\r_______\\x94.'\n",
      "b'\\x80\\x04\\x95\\x12\\x00\\x00\\x00\\x00\\x00\\x00\\x00\\x8c\\x0e_______\\x94.'\n",
      "b'\\x80\\x04\\x95\\x13\\x00\\x00\\x00\\x00\\x00\\x00\\x00\\x8c\\x0f_______\\x94.'\n",
      "b'\\x80\\x04\\x95\\x14\\x00\\x00\\x00\\x00\\x00\\x00\\x00\\x8c\\x10_______\\x94.'\n",
      "b'\\x80\\x04\\x95\\x15\\x00\\x00\\x00\\x00\\x00\\x00\\x00\\x8c\\x11_______\\x94.'\n",
      "b'\\x80\\x04\\x95\\x16\\x00\\x00\\x00\\x00\\x00\\x00\\x00\\x8c\\x12_______\\x94.'\n",
      "b'\\x80\\x04\\x95\\x17\\x00\\x00\\x00\\x00\\x00\\x00\\x00\\x8c\\x13_______\\x94.'\n",
      "b'\\x80\\x04\\x95\\x18\\x00\\x00\\x00\\x00\\x00\\x00\\x00\\x8c\\x14_______\\x94.'\n",
      "b'\\x80\\x04\\x95\\x19\\x00\\x00\\x00\\x00\\x00\\x00\\x00\\x8c\\x15_______\\x94.'\n",
      "b'\\x80\\x04\\x95\\x1a\\x00\\x00\\x00\\x00\\x00\\x00\\x00\\x8c\\x16_______\\x94.'\n",
      "b'\\x80\\x04\\x95\\x1b\\x00\\x00\\x00\\x00\\x00\\x00\\x00\\x8c\\x17_______\\x94.'\n",
      "b'\\x80\\x04\\x95\\x1c\\x00\\x00\\x00\\x00\\x00\\x00\\x00\\x8c\\x18_______\\x94.'\n",
      "b'\\x80\\x04\\x95\\x1d\\x00\\x00\\x00\\x00\\x00\\x00\\x00\\x8c\\x19_______\\x94.'\n"
     ]
    },
    {
     "ename": "",
     "evalue": "",
     "output_type": "error",
     "traceback": [
      "\u001b[1;31mThe Kernel crashed while executing code in the current cell or a previous cell. \n",
      "\u001b[1;31mPlease review the code in the cell(s) to identify a possible cause of the failure. \n",
      "\u001b[1;31mClick <a href='https://aka.ms/vscodeJupyterKernelCrash'>here</a> for more info. \n",
      "\u001b[1;31mView Jupyter <a href='command:jupyter.viewOutput'>log</a> for further details."
     ]
    }
   ],
   "source": []
  },
  {
   "cell_type": "code",
   "execution_count": null,
   "metadata": {},
   "outputs": [],
   "source": []
  },
  {
   "cell_type": "code",
   "execution_count": null,
   "metadata": {},
   "outputs": [],
   "source": [
    "for "
   ]
  }
 ],
 "metadata": {
  "kernelspec": {
   "display_name": "Python 3",
   "language": "python",
   "name": "python3"
  },
  "language_info": {
   "codemirror_mode": {
    "name": "ipython",
    "version": 3
   },
   "file_extension": ".py",
   "mimetype": "text/x-python",
   "name": "python",
   "nbconvert_exporter": "python",
   "pygments_lexer": "ipython3",
   "version": "3.12.5"
  }
 },
 "nbformat": 4,
 "nbformat_minor": 2
}
