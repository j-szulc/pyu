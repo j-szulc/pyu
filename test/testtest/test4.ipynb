{
 "cells": [
  {
   "cell_type": "code",
   "execution_count": 12,
   "metadata": {},
   "outputs": [
    {
     "name": "stdout",
     "output_type": "stream",
     "text": [
      "['/Users/jszulc/micromamba/lib/python3.10/site-packages/ipykernel_launcher.py', '--f=/Users/jszulc/Library/Jupyter/runtime/kernel-v2-12575sHdAwsXRf930.json']\n",
      "Hello\n",
      "The autoreload extension is already loaded. To reload it, use:\n",
      "  %reload_ext autoreload\n"
     ]
    }
   ],
   "source": [
    "%load_ext autoreload\n",
    "%autoreload 2"
   ]
  },
  {
   "cell_type": "code",
   "execution_count": 13,
   "metadata": {},
   "outputs": [],
   "source": [
    "import dupa\n",
    "from pyu.cli_to_lib import *"
   ]
  },
  {
   "cell_type": "code",
   "execution_count": 18,
   "metadata": {},
   "outputs": [
    {
     "name": "stdout",
     "output_type": "stream",
     "text": [
      "['/Users/jszulc/micromamba/lib/python3.10/site-packages/ipykernel_launcher.py', '--f=/Users/jszulc/Library/Jupyter/runtime/kernel-v2-12575sHdAwsXRf930.json']\n",
      "Hello\n",
      "['/Users/jszulc/micromamba/lib/python3.10/site-packages/ipykernel_launcher.py', '--f=/Users/jszulc/Library/Jupyter/runtime/kernel-v2-12575sHdAwsXRf930.json']\n",
      "Hello\n",
      "2\n"
     ]
    }
   ],
   "source": [
    "rerun_where_imported(foo=2)"
   ]
  },
  {
   "cell_type": "code",
   "execution_count": null,
   "metadata": {},
   "outputs": [],
   "source": []
  }
 ],
 "metadata": {
  "kernelspec": {
   "display_name": "Python 3",
   "language": "python",
   "name": "python3"
  },
  "language_info": {
   "codemirror_mode": {
    "name": "ipython",
    "version": 3
   },
   "file_extension": ".py",
   "mimetype": "text/x-python",
   "name": "python",
   "nbconvert_exporter": "python",
   "pygments_lexer": "ipython3",
   "version": "3.10.14"
  }
 },
 "nbformat": 4,
 "nbformat_minor": 2
}
